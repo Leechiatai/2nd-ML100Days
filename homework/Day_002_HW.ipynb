{
 "cells": [
  {
   "cell_type": "code",
   "execution_count": 1,
   "metadata": {},
   "outputs": [],
   "source": [
    "import os\n",
    "import numpy as np\n",
    "import pandas as pd"
   ]
  },
  {
   "cell_type": "code",
   "execution_count": null,
   "metadata": {},
   "outputs": [],
   "source": [
    "練習時間\n",
    "\n",
    "資料的操作有很多，接下來的馬拉松中我們會介紹常被使用到的操作，參加者不妨先自行想像一下，第一次看到資料，我們一般會想知道什麼訊息？\n",
    "\n",
    "Ex: 如何知道資料的 row 數以及 column 數、有什麼欄位、多少欄位、如何截取部分的資料等等\n",
    "有了對資料的好奇之後，我們又怎麼通過程式碼來達成我們的目的呢？\n",
    "\n",
    "可參考該基礎教材或自行 google"
   ]
  },
  {
   "cell_type": "code",
   "execution_count": 3,
   "metadata": {},
   "outputs": [],
   "source": [
    "# 設定 data_path\n",
    "data = 'C:/Users/user/Desktop/Data/2016MLB'"
   ]
  },
  {
   "cell_type": "code",
   "execution_count": 8,
   "metadata": {},
   "outputs": [
    {
     "name": "stdout",
     "output_type": "stream",
     "text": [
      "Path of read in data: C:/Users/user/Desktop/Data/2016MLB\\baseball_reference_2016_clean.csv\n"
     ]
    }
   ],
   "source": [
    "#輸入資料\n",
    "mlb = os.path.join(data, 'baseball_reference_2016_clean.csv')\n",
    "print('Path of read in data: %s' % (mlb))\n",
    "mlb_train = pd.read_csv(mlb)\n"
   ]
  },
  {
   "cell_type": "code",
   "execution_count": 9,
   "metadata": {},
   "outputs": [
    {
     "name": "stdout",
     "output_type": "stream",
     "text": [
      "        Unnamed: 0    attendance  away_team_errors  away_team_hits  \\\n",
      "count  2463.000000   2460.000000       2463.000000     2463.000000   \n",
      "mean   1231.000000  30370.703659          0.580593        8.764515   \n",
      "std     711.151179   9875.466703          0.793391        3.511581   \n",
      "min       0.000000   8766.000000          0.000000        1.000000   \n",
      "25%     615.500000  22432.000000          0.000000        6.000000   \n",
      "50%    1231.000000  30604.500000          0.000000        8.000000   \n",
      "75%    1846.500000  38396.250000          1.000000       11.000000   \n",
      "max    2462.000000  54449.000000          5.000000       22.000000   \n",
      "\n",
      "       away_team_runs  home_team_errors  home_team_hits  home_team_runs  \\\n",
      "count     2463.000000       2463.000000     2463.000000     2463.000000   \n",
      "mean         4.413723          0.585871        8.611855        4.519691   \n",
      "std          3.104556          0.805542        3.436965        3.111572   \n",
      "min          0.000000          0.000000        0.000000        0.000000   \n",
      "25%          2.000000          0.000000        6.000000        2.000000   \n",
      "50%          4.000000          0.000000        8.000000        4.000000   \n",
      "75%          6.000000          1.000000       11.000000        6.000000   \n",
      "max         21.000000          5.000000       22.000000       17.000000   \n",
      "\n",
      "       temperature   wind_speed   total_runs  game_hours_dec  home_team_win  \\\n",
      "count  2463.000000  2463.000000  2463.000000     2463.000000    2463.000000   \n",
      "mean     73.818920     7.494925     8.933415        3.085302       0.529436   \n",
      "std      10.583106     5.055970     4.480352        0.460491       0.499234   \n",
      "min      31.000000     0.000000     1.000000        1.250000       0.000000   \n",
      "25%      67.000000     4.000000     6.000000        2.783333       0.000000   \n",
      "50%      74.000000     7.000000     8.000000        3.033333       1.000000   \n",
      "75%      81.000000    11.000000    12.000000        3.308333       1.000000   \n",
      "max     101.000000    25.000000    29.000000        6.216667       1.000000   \n",
      "\n",
      "       home_team_loss  \n",
      "count     2463.000000  \n",
      "mean         0.470158  \n",
      "std          0.499210  \n",
      "min          0.000000  \n",
      "25%          0.000000  \n",
      "50%          0.000000  \n",
      "75%          1.000000  \n",
      "max          1.000000  \n",
      "Unnamed: 0           1231.000000\n",
      "attendance          30370.703659\n",
      "away_team_errors        0.580593\n",
      "away_team_hits          8.764515\n",
      "away_team_runs          4.413723\n",
      "home_team_errors        0.585871\n",
      "home_team_hits          8.611855\n",
      "home_team_runs          4.519691\n",
      "temperature            73.818920\n",
      "wind_speed              7.494925\n",
      "total_runs              8.933415\n",
      "game_hours_dec          3.085302\n",
      "home_team_win           0.529436\n",
      "home_team_loss          0.470158\n",
      "dtype: float64\n"
     ]
    }
   ],
   "source": [
    "#可以印出一些平均、標準差等資料\n",
    "print(mlb_train.describe())\n",
    "#計算平均\n",
    "print(mlb_train.mean())\n",
    "\n"
   ]
  },
  {
   "cell_type": "code",
   "execution_count": 24,
   "metadata": {},
   "outputs": [
    {
     "data": {
      "text/html": [
       "<div>\n",
       "<style scoped>\n",
       "    .dataframe tbody tr th:only-of-type {\n",
       "        vertical-align: middle;\n",
       "    }\n",
       "\n",
       "    .dataframe tbody tr th {\n",
       "        vertical-align: top;\n",
       "    }\n",
       "\n",
       "    .dataframe thead th {\n",
       "        text-align: right;\n",
       "    }\n",
       "</style>\n",
       "<table border=\"1\" class=\"dataframe\">\n",
       "  <thead>\n",
       "    <tr style=\"text-align: right;\">\n",
       "      <th></th>\n",
       "      <th>temperature</th>\n",
       "    </tr>\n",
       "  </thead>\n",
       "  <tbody>\n",
       "    <tr>\n",
       "      <th>0</th>\n",
       "      <td>74.0</td>\n",
       "    </tr>\n",
       "    <tr>\n",
       "      <th>1</th>\n",
       "      <td>55.0</td>\n",
       "    </tr>\n",
       "    <tr>\n",
       "      <th>2</th>\n",
       "      <td>48.0</td>\n",
       "    </tr>\n",
       "    <tr>\n",
       "      <th>3</th>\n",
       "      <td>65.0</td>\n",
       "    </tr>\n",
       "    <tr>\n",
       "      <th>4</th>\n",
       "      <td>77.0</td>\n",
       "    </tr>\n",
       "  </tbody>\n",
       "</table>\n",
       "</div>"
      ],
      "text/plain": [
       "   temperature\n",
       "0         74.0\n",
       "1         55.0\n",
       "2         48.0\n",
       "3         65.0\n",
       "4         77.0"
      ]
     },
     "execution_count": 24,
     "metadata": {},
     "output_type": "execute_result"
    }
   ],
   "source": [
    "#截取資料\n",
    "#僅抓出比賽當天溫度\n",
    "mlb_train[0:5][['temperature']]"
   ]
  },
  {
   "cell_type": "code",
   "execution_count": 22,
   "metadata": {
    "scrolled": true
   },
   "outputs": [
    {
     "data": {
      "text/html": [
       "<div>\n",
       "<style scoped>\n",
       "    .dataframe tbody tr th:only-of-type {\n",
       "        vertical-align: middle;\n",
       "    }\n",
       "\n",
       "    .dataframe tbody tr th {\n",
       "        vertical-align: top;\n",
       "    }\n",
       "\n",
       "    .dataframe thead th {\n",
       "        text-align: right;\n",
       "    }\n",
       "</style>\n",
       "<table border=\"1\" class=\"dataframe\">\n",
       "  <thead>\n",
       "    <tr style=\"text-align: right;\">\n",
       "      <th></th>\n",
       "      <th>temperature</th>\n",
       "      <th>date</th>\n",
       "    </tr>\n",
       "  </thead>\n",
       "  <tbody>\n",
       "    <tr>\n",
       "      <th>0</th>\n",
       "      <td>74.0</td>\n",
       "      <td>2016-04-03</td>\n",
       "    </tr>\n",
       "    <tr>\n",
       "      <th>1</th>\n",
       "      <td>55.0</td>\n",
       "      <td>2016-04-06</td>\n",
       "    </tr>\n",
       "    <tr>\n",
       "      <th>2</th>\n",
       "      <td>48.0</td>\n",
       "      <td>2016-04-06</td>\n",
       "    </tr>\n",
       "    <tr>\n",
       "      <th>3</th>\n",
       "      <td>65.0</td>\n",
       "      <td>2016-04-06</td>\n",
       "    </tr>\n",
       "    <tr>\n",
       "      <th>4</th>\n",
       "      <td>77.0</td>\n",
       "      <td>2016-04-06</td>\n",
       "    </tr>\n",
       "  </tbody>\n",
       "</table>\n",
       "</div>"
      ],
      "text/plain": [
       "   temperature        date\n",
       "0         74.0  2016-04-03\n",
       "1         55.0  2016-04-06\n",
       "2         48.0  2016-04-06\n",
       "3         65.0  2016-04-06\n",
       "4         77.0  2016-04-06"
      ]
     },
     "execution_count": 22,
     "metadata": {},
     "output_type": "execute_result"
    }
   ],
   "source": [
    "#同時抓出溫度與日期的資料\n",
    "mlb_train[0:5][['temperature','date']]"
   ]
  },
  {
   "cell_type": "code",
   "execution_count": 23,
   "metadata": {},
   "outputs": [
    {
     "data": {
      "text/plain": [
       "0       False\n",
       "1       False\n",
       "2       False\n",
       "3       False\n",
       "4        True\n",
       "5        True\n",
       "6       False\n",
       "7       False\n",
       "8       False\n",
       "9       False\n",
       "10      False\n",
       "11      False\n",
       "12       True\n",
       "13      False\n",
       "14      False\n",
       "15      False\n",
       "16      False\n",
       "17      False\n",
       "18      False\n",
       "19      False\n",
       "20      False\n",
       "21      False\n",
       "22      False\n",
       "23      False\n",
       "24      False\n",
       "25      False\n",
       "26      False\n",
       "27       True\n",
       "28      False\n",
       "29      False\n",
       "        ...  \n",
       "2433    False\n",
       "2434    False\n",
       "2435    False\n",
       "2436     True\n",
       "2437    False\n",
       "2438    False\n",
       "2439    False\n",
       "2440    False\n",
       "2441    False\n",
       "2442     True\n",
       "2443    False\n",
       "2444    False\n",
       "2445    False\n",
       "2446     True\n",
       "2447     True\n",
       "2448     True\n",
       "2449    False\n",
       "2450    False\n",
       "2451    False\n",
       "2452    False\n",
       "2453    False\n",
       "2454    False\n",
       "2455    False\n",
       "2456     True\n",
       "2457    False\n",
       "2458    False\n",
       "2459    False\n",
       "2460    False\n",
       "2461    False\n",
       "2462    False\n",
       "Name: temperature, Length: 2463, dtype: bool"
      ]
     },
     "execution_count": 23,
     "metadata": {},
     "output_type": "execute_result"
    }
   ],
   "source": [
    "#判斷比賽當天的溫度是否大於華氏75度\n",
    "mlb_train['temperature']>75"
   ]
  },
  {
   "cell_type": "code",
   "execution_count": 25,
   "metadata": {},
   "outputs": [],
   "source": [
    "#設定Index\n",
    "mlb_train.set_index('temperature', inplace=True)"
   ]
  },
  {
   "cell_type": "code",
   "execution_count": null,
   "metadata": {},
   "outputs": [],
   "source": []
  }
 ],
 "metadata": {
  "kernelspec": {
   "display_name": "Python 3",
   "language": "python",
   "name": "python3"
  },
  "language_info": {
   "codemirror_mode": {
    "name": "ipython",
    "version": 3
   },
   "file_extension": ".py",
   "mimetype": "text/x-python",
   "name": "python",
   "nbconvert_exporter": "python",
   "pygments_lexer": "ipython3",
   "version": "3.7.1"
  }
 },
 "nbformat": 4,
 "nbformat_minor": 2
}
