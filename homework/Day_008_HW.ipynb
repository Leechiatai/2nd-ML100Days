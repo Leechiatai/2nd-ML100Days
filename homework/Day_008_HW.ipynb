﻿{
 "cells": [
  {
   "cell_type": "code",
   "execution_count": 1,
   "metadata": {},
   "outputs": [],
   "source": [
    "import os\n",
    "import numpy as np\n",
    "import pandas as pd\n",
    "import csv\n",
    "import matplotlib.pyplot as plt\n"
   ]
  },
  {
   "cell_type": "code",
   "execution_count": 2,
   "metadata": {},
   "outputs": [],
   "source": [
    "# 設定 data_path, 並讀取 app_train\n",
    "dir_data = 'C:/Users/user/Desktop/Python'\n",
    "f_app_train = os.path.join(dir_data, 'application_train.csv')\n",
    "df1 = pd.read_csv(f_app_train)"
   ]
  },
  {
   "cell_type": "code",
   "execution_count": 9,
   "metadata": {},
   "outputs": [
    {
     "ename": "IndentationError",
     "evalue": "unindent does not match any outer indentation level (<tokenize>, line 21)",
     "output_type": "error",
     "traceback": [
      "\u001b[1;36m  File \u001b[1;32m\"<tokenize>\"\u001b[1;36m, line \u001b[1;32m21\u001b[0m\n\u001b[1;33m    elif df1['CNT_CHILDREN'] =1 or 2:\u001b[0m\n\u001b[1;37m    ^\u001b[0m\n\u001b[1;31mIndentationError\u001b[0m\u001b[1;31m:\u001b[0m unindent does not match any outer indentation level\n"
     ]
    }
   ],
   "source": [
    "###\n",
    "### Day8\n",
    "###\n",
    "\n",
    "###\n",
    "#1 請將 app_train 中的 CNT_CHILDREN 依照下列規則分為四組，並將其結果在原本的 dataframe 命名為 CNT_CHILDREN_GROUP\n",
    "#  0 個小孩\n",
    "#  有 1 - 2 個小孩\n",
    "#  有 3 - 5 個小孩\n",
    "#  有超過 5 個小孩\n",
    "###\n",
    "\n",
    "day8_1 = df1['CNT_CHILDREN']\n",
    "print(day8_1.head())\n",
    "\n",
    "\n",
    "df1[' CNT_CHILDREN_GROUP'] = 0 # 先透過這種方式新增好欄位做準備，下面執行效能會好很多\n",
    "def cal_CNT_CHILDREN_GROUP(row):\n",
    "   if df1['CNT_CHILDREN'] == '0':            \n",
    "      df1[' CNT_CHILDREN_GROUP'] = 1       \n",
    "    elif df1['CNT_CHILDREN'] =1 or 2:\n",
    "         df1[' CNT_CHILDREN_GROUP'] = 2 \n",
    "    elif df1['CNT_CHILDREN'] = '3' or '4' or '5':\n",
    "         df1[' CNT_CHILDREN_GROUP'] = 3\n",
    "    else:\n",
    "         df1[' CNT_CHILDREN_GROUP'] = 4\n",
    "df1 = df1.apply(al_CNT_CHILDREN_GROUP, axis=1)  # 記得: 1.要把新的df指派給原本的df才會成功更新。 2. axis要設定為1，才會以row為單位跑回圈。\n",
    "\n",
    "###\n",
    "#2 請根據 CNT_CHILDREN_GROUP 以及 TARGET，列出各組的平均 AMT_INCOME_TOTAL，並繪製 boxplot\n",
    "###\n",
    "\n",
    "#groupby理論 等同於R的tapply\n",
    "df1.groupby('CNT_CHILDREN_GROUP').mean() \n",
    "\n",
    "#boxplot\n",
    "tempData = df1['AMT_INCOME_TOTAL']\n",
    "boxData  = \n",
    "fig = plt.figure()\n",
    "plt.boxplot(np.array(boxData), labels=('G1','G2','G3','G4'))"
   ]
  },
  {
   "cell_type": "code",
   "execution_count": null,
   "metadata": {},
   "outputs": [],
   "source": []
  },
  {
   "cell_type": "code",
   "execution_count": null,
   "metadata": {},
   "outputs": [],
   "source": []
  }
 ],
 "metadata": {
  "kernelspec": {
   "display_name": "Python 3",
   "language": "python",
   "name": "python3"
  },
  "language_info": {
   "codemirror_mode": {
    "name": "ipython",
    "version": 3
   },
   "file_extension": ".py",
   "mimetype": "text/x-python",
   "name": "python",
   "nbconvert_exporter": "python",
   "pygments_lexer": "ipython3",
   "version": "3.7.1"
  }
 },
 "nbformat": 4,
 "nbformat_minor": 2
}
