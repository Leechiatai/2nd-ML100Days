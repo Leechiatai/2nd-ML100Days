{
 "cells": [
  {
   "cell_type": "code",
   "execution_count": 1,
   "metadata": {},
   "outputs": [],
   "source": [
    "import os\n",
    "import numpy as np\n",
    "import pandas as pd"
   ]
  },
  {
   "cell_type": "code",
   "execution_count": 8,
   "metadata": {
    "scrolled": true
   },
   "outputs": [
    {
     "name": "stdout",
     "output_type": "stream",
     "text": [
      "   Unnamed: 0  attendance              away_team  away_team_errors  \\\n",
      "0           0     40030.0          New York Mets                 1   \n",
      "1           1     21621.0  Philadelphia Phillies                 0   \n",
      "2           2     12622.0        Minnesota Twins                 0   \n",
      "3           3     18531.0   Washington Nationals                 0   \n",
      "4           4     18572.0       Colorado Rockies                 1   \n",
      "\n",
      "   away_team_hits  away_team_runs        date field_type   game_type  \\\n",
      "0               7               3  2016-04-03   on grass  Night Game   \n",
      "1               5               2  2016-04-06   on grass  Night Game   \n",
      "2               5               2  2016-04-06   on grass  Night Game   \n",
      "3               8               3  2016-04-06   on grass  Night Game   \n",
      "4               8               4  2016-04-06   on grass    Day Game   \n",
      "\n",
      "              home_team        ...         temperature  wind_speed  \\\n",
      "0    Kansas City Royals        ...                74.0        14.0   \n",
      "1       Cincinnati Reds        ...                55.0        24.0   \n",
      "2     Baltimore Orioles        ...                48.0         7.0   \n",
      "3        Atlanta Braves        ...                65.0        10.0   \n",
      "4  Arizona Diamondbacks        ...                77.0         0.0   \n",
      "\n",
      "          wind_direction       sky total_runs game_hours_dec          season  \\\n",
      "0     from Right to Left     Sunny          7       3.216667  regular season   \n",
      "1     from Right to Left  Overcast          5       2.383333  regular season   \n",
      "2       out to Leftfield   Unknown          6       3.183333  regular season   \n",
      "3     from Right to Left    Cloudy          4       2.883333  regular season   \n",
      "4   in unknown direction   In Dome          7       2.650000  regular season   \n",
      "\n",
      "   home_team_win home_team_loss home_team_outcome  \n",
      "0              1              0               Win  \n",
      "1              1              0               Win  \n",
      "2              1              0               Win  \n",
      "3              0              1              Loss  \n",
      "4              0              1              Loss  \n",
      "\n",
      "[5 rows x 26 columns]\n"
     ]
    }
   ],
   "source": [
    "# 設定 data_path\n",
    "my_data = 'C:/Users/user/Desktop/Data/2016MLB/'\n",
    "df = os.path.join(my_data, 'baseball_reference_2016_clean.csv')\n",
    "\n",
    "baseball_data = pd.read_csv(df)\n",
    "print(baseball_data.head())"
   ]
  },
  {
   "cell_type": "code",
   "execution_count": 12,
   "metadata": {},
   "outputs": [
    {
     "name": "stdout",
     "output_type": "stream",
     "text": [
      "(2463, 547)\n"
     ]
    }
   ],
   "source": [
    "###\n",
    "### Day 4\n",
    "###\n",
    "\n",
    "#觀察資料集內的變數\n",
    "baseball_data.dtypes.value_counts()\n",
    "\n",
    "#檢視資料中類別型欄位各自類別的數量\n",
    "baseball_data.select_dtypes(include=[\"object\"]).apply(pd.Series.nunique, axis = 0)\n",
    "\n",
    "#Python 中的 One Hot encoding 就是統計我說的Dummy Variable\n",
    "test = pd.get_dummies(baseball_data)\n",
    "\n",
    "\n",
    "#利用shape 與 head觀察資料變化\n",
    "#print(test.shape)\n",
    "#print(test['home_team_outcome_Win'].head())\n",
    "#print(test['home_team_outcome_Loss'].head())\n"
   ]
  },
  {
   "cell_type": "code",
   "execution_count": null,
   "metadata": {},
   "outputs": [],
   "source": []
  }
 ],
 "metadata": {
  "kernelspec": {
   "display_name": "Python 3",
   "language": "python",
   "name": "python3"
  },
  "language_info": {
   "codemirror_mode": {
    "name": "ipython",
    "version": 3
   },
   "file_extension": ".py",
   "mimetype": "text/x-python",
   "name": "python",
   "nbconvert_exporter": "python",
   "pygments_lexer": "ipython3",
   "version": "3.7.1"
  }
 },
 "nbformat": 4,
 "nbformat_minor": 2
}
