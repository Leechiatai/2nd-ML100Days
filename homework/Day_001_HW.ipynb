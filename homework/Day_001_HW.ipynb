{
 "cells": [
  {
   "cell_type": "markdown",
   "metadata": {},
   "source": [
    "作業一\n",
    "1.棒球數據分析是現代棒球的趨勢，此資料集不同於以往對戰資料，藉由觀察比賽當天的時間，氣候，場地等等因素，找出美國職棒2016年的最強隊伍。\n",
    "2.作者利用scrapy網路爬蟲於https://www.baseball-reference.com/ 網站進行數據收集。\n",
    "3.資料型態為結構化，2464x26的資料集。\n",
    "4.資料集中有隊伍名稱，以及最關鍵的當天比賽主場結果(home_team_outcome)，結果共有兩種，分別為Win跟Lose，希望利用其他變數找出與結果關聯性較大之變數，或是利用分群方法降維，將30支球隊進行分群，除了找出2016最強的球隊外，也能針對不同球隊進行分析，了解其特性。"
   ]
  },
  {
   "cell_type": "markdown",
   "metadata": {},
   "source": [
    "作業二\n",
    "1.自由載客車隊要提升業績，首先必須提高載客率，也就是乘客是否願意上車，因此本研究將乘客結果分為兩種，\"願意上車\"與\"不願意上車\"，建構模型(logistic regression)，觀察後續變數對於乘客上車結果的影響。\n",
    "2.蒐集資料方式需要駕駛與乘客配合，利用APP蒐集當天搭乘之時間，天氣，地點等資訊建立模型，給予司機評分，以及了解搭乘之目的，在人潮眾多的地方加派司機駐守，人超稀疏的地方減少資源之浪費。\n",
    "3.資料蒐集型態為結構型。\n",
    "4.建構模型，觀察變數是否顯著，找出顯著性高的變數後，了解其對民眾願意上車機率之影響。"
   ]
  }
 ],
 "metadata": {
  "kernelspec": {
   "display_name": "Python 3",
   "language": "python",
   "name": "python3"
  },
  "language_info": {
   "codemirror_mode": {
    "name": "ipython",
    "version": 3
   },
   "file_extension": ".py",
   "mimetype": "text/x-python",
   "name": "python",
   "nbconvert_exporter": "python",
   "pygments_lexer": "ipython3",
   "version": "3.7.1"
  }
 },
 "nbformat": 4,
 "nbformat_minor": 2
}
