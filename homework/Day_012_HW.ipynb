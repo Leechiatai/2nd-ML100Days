﻿{
 "cells": [
  {
   "cell_type": "code",
   "execution_count": 23,
   "metadata": {},
   "outputs": [],
   "source": [
    "import os\n",
    "import numpy as np\n",
    "import pandas as pd\n",
    "import csv\n",
    "import matplotlib.pyplot as plt\n",
    "import matplotlib\n",
    "import matplotlib.pyplot as plt\n",
    "%matplotlib inline\n",
    "import seaborn as sns               # 另一個繪圖-樣式套件\n",
    "%matplotlib inline\n",
    "import warnings                     # 忽略警告訊息    \n",
    "warnings.filterwarnings('ignore')\n",
    "np.random.seed(1127)\n",
    "\n"
   ]
  },
  {
   "cell_type": "code",
   "execution_count": 24,
   "metadata": {},
   "outputs": [],
   "source": [
    "# 設定 data_path, 並讀取 app_train\n",
    "dir_data = 'C:/Users/user/Desktop/Python'\n",
    "f_app_train = os.path.join(dir_data, 'application_train.csv')\n",
    "df1 = pd.read_csv(f_app_train)"
   ]
  },
  {
   "cell_type": "code",
   "execution_count": 32,
   "metadata": {},
   "outputs": [
    {
     "data": {
      "text/plain": [
       "0     (20, 30]\n",
       "1     (40, 50]\n",
       "2    (50, 100]\n",
       "3    (50, 100]\n",
       "4    (50, 100]\n",
       "Name: customized_age_grp, dtype: category\n",
       "Categories (5, interval[int64]): [(10, 20] < (20, 30] < (30, 40] < (40, 50] < (50, 100]]"
      ]
     },
     "execution_count": 32,
     "metadata": {},
     "output_type": "execute_result"
    }
   ],
   "source": [
    "###\n",
    "### Day 12\n",
    "###\n",
    "\n",
    "bins = [10,20,30,40,50,100]\n",
    "df1['ages']= abs(df1['DAYS_BIRTH'])/365\n",
    "df1['customized_age_grp'] = pd.cut(df1['ages'],bins)\n",
    "df1['customized_age_grp'].head()"
   ]
  }
 ],
 "metadata": {
  "kernelspec": {
   "display_name": "Python 3",
   "language": "python",
   "name": "python3"
  },
  "language_info": {
   "codemirror_mode": {
    "name": "ipython",
    "version": 3
   },
   "file_extension": ".py",
   "mimetype": "text/x-python",
   "name": "python",
   "nbconvert_exporter": "python",
   "pygments_lexer": "ipython3",
   "version": "3.7.1"
  }
 },
 "nbformat": 4,
 "nbformat_minor": 2
}
